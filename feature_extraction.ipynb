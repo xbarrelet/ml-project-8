{
 "cells": [
  {
   "cell_type": "code",
   "execution_count": 1,
   "metadata": {},
   "outputs": [
    {
     "name": "stdout",
     "output_type": "stream",
     "text": [
      "Starting Spark application\n"
     ]
    },
    {
     "data": {
      "text/html": [
       "<table>\n",
       "<tr><th>ID</th><th>YARN Application ID</th><th>Kind</th><th>State</th><th>Spark UI</th><th>Driver log</th><th>User</th><th>Current session?</th></tr><tr><td>2</td><td>application_1730868427509_0003</td><td>pyspark</td><td>idle</td><td><a target=\"_blank\" href=\"http://ip-172-31-14-91.eu-west-3.compute.internal:20888/proxy/application_1730868427509_0003/\">Link</a></td><td><a target=\"_blank\" href=\"http://ip-172-31-6-67.eu-west-3.compute.internal:8042/node/containerlogs/container_1730868427509_0003_01_000001/livy\">Link</a></td><td>None</td><td>✔</td></tr></table>"
      ],
      "text/plain": [
       "<IPython.core.display.HTML object>"
      ]
     },
     "metadata": {},
     "output_type": "display_data"
    },
    {
     "data": {
      "application/vnd.jupyter.widget-view+json": {
       "model_id": "",
       "version_major": 2,
       "version_minor": 0
      },
      "text/plain": [
       "FloatProgress(value=0.0, bar_style='info', description='Progress:', layout=Layout(height='25px', width='50%'),…"
      ]
     },
     "metadata": {},
     "output_type": "display_data"
    },
    {
     "name": "stdout",
     "output_type": "stream",
     "text": [
      "SparkSession available as 'spark'.\n"
     ]
    },
    {
     "data": {
      "application/vnd.jupyter.widget-view+json": {
       "model_id": "",
       "version_major": 2,
       "version_minor": 0
      },
      "text/plain": [
       "FloatProgress(value=0.0, bar_style='info', description='Progress:', layout=Layout(height='25px', width='50%'),…"
      ]
     },
     "metadata": {},
     "output_type": "display_data"
    },
    {
     "name": "stdout",
     "output_type": "stream",
     "text": [
      "/usr/bin/python3"
     ]
    }
   ],
   "source": [
    "import sys\n",
    "print(sys.executable)"
   ]
  },
  {
   "cell_type": "code",
   "execution_count": 2,
   "metadata": {},
   "outputs": [
    {
     "data": {
      "application/vnd.jupyter.widget-view+json": {
       "model_id": "",
       "version_major": 2,
       "version_minor": 0
      },
      "text/plain": [
       "FloatProgress(value=0.0, bar_style='info', description='Progress:', layout=Layout(height='25px', width='50%'),…"
      ]
     },
     "metadata": {},
     "output_type": "display_data"
    }
   ],
   "source": [
    "import io\n",
    "import numpy as np\n",
    "import pandas as pd\n",
    "from PIL import Image\n",
    "from keras import Model\n",
    "from keras.src.applications.mobilenet_v2 import MobileNetV2, preprocess_input\n",
    "from keras.src.utils import img_to_array\n",
    "from pyspark.ml.feature import PCA\n",
    "from pyspark.ml.linalg import Vectors, VectorUDT\n",
    "from pyspark.sql import SparkSession\n",
    "from pyspark.sql.functions import pandas_udf, PandasUDFType, element_at, split, col, udf\n",
    "from pyspark.sql.types import ArrayType, FloatType"
   ]
  },
  {
   "cell_type": "markdown",
   "metadata": {},
   "source": [
    "AWS CONFIG"
   ]
  },
  {
   "cell_type": "code",
   "execution_count": 3,
   "metadata": {},
   "outputs": [
    {
     "data": {
      "application/vnd.jupyter.widget-view+json": {
       "model_id": "",
       "version_major": 2,
       "version_minor": 0
      },
      "text/plain": [
       "FloatProgress(value=0.0, bar_style='info', description='Progress:', layout=Layout(height='25px', width='50%'),…"
      ]
     },
     "metadata": {},
     "output_type": "display_data"
    }
   ],
   "source": [
    "DATA_PATH = \"s3a://xavier-project-8-bucket/Test/\"\n",
    "RESULTS_PATH = \"s3a://xavier-project-8-bucket/results/\"\n",
    "PCA_RESULTS_PATH = \"s3a://xavier-project-8-bucket/results_pca/\"\n",
    "PCA_CSV_RESULTS_PATH = \"s3a://xavier-project-8-bucket/results_pca_csv/\"\n",
    "\n",
    "spark = (SparkSession\n",
    "         .builder\n",
    "         .appName('project-8-spark-application')\n",
    "         .config(\"spark.executor.memory\", \"15g\") # C5.xlarge instances has 16gb of memory\n",
    "         .config(\"spark.driver.memory\", \"15g\")\n",
    "         .config(\"spark.executor.cores\", \"4\")  # C5.xlarge instanced have 4 vcpus\n",
    "         .config(\"spark.sql.parquet.writeLegacyFormat\", 'true')\n",
    "         .getOrCreate()\n",
    "         )\n",
    "sc = spark.sparkContext"
   ]
  },
  {
   "cell_type": "markdown",
   "metadata": {},
   "source": [
    "#MISC CONFIG\n",
    "\n",
    "pd.options.display.max_columns = None\n",
    "pd.options.display.max_rows = None\n",
    "spark.conf.set(\"spark.sql.execution.arrow.maxRecordsPerBatch\", \"1024\")"
   ]
  },
  {
   "cell_type": "code",
   "execution_count": 4,
   "metadata": {},
   "outputs": [
    {
     "data": {
      "application/vnd.jupyter.widget-view+json": {
       "model_id": "",
       "version_major": 2,
       "version_minor": 0
      },
      "text/plain": [
       "FloatProgress(value=0.0, bar_style='info', description='Progress:', layout=Layout(height='25px', width='50%'),…"
      ]
     },
     "metadata": {},
     "output_type": "display_data"
    }
   ],
   "source": [
    "def load_model():\n",
    "    \"\"\"\n",
    "    Returns a MobileNetV2 model with top layer removed\n",
    "    and broadcasted pretrained weights.\n",
    "    \"\"\"\n",
    "    model = MobileNetV2(weights='imagenet', include_top=True, input_shape=(224, 224, 3))\n",
    "    \n",
    "    for layer in model.layers:\n",
    "        layer.trainable = False\n",
    "        \n",
    "    new_model = Model(inputs=model.input, outputs=model.layers[-2].output)\n",
    "    new_model.set_weights(broadcasted_weights.value)\n",
    "    \n",
    "    return new_model"
   ]
  },
  {
   "cell_type": "code",
   "execution_count": 5,
   "metadata": {},
   "outputs": [
    {
     "data": {
      "application/vnd.jupyter.widget-view+json": {
       "model_id": "",
       "version_major": 2,
       "version_minor": 0
      },
      "text/plain": [
       "FloatProgress(value=0.0, bar_style='info', description='Progress:', layout=Layout(height='25px', width='50%'),…"
      ]
     },
     "metadata": {},
     "output_type": "display_data"
    }
   ],
   "source": [
    "def preprocess(content):\n",
    "    \"\"\"\n",
    "    Preprocesses raw image bytes for prediction.\n",
    "    \"\"\"\n",
    "    img = Image.open(io.BytesIO(content)).resize([224, 224])\n",
    "    arr = img_to_array(img)\n",
    "    \n",
    "    return preprocess_input(arr)"
   ]
  },
  {
   "cell_type": "code",
   "execution_count": 6,
   "metadata": {},
   "outputs": [
    {
     "data": {
      "application/vnd.jupyter.widget-view+json": {
       "model_id": "",
       "version_major": 2,
       "version_minor": 0
      },
      "text/plain": [
       "FloatProgress(value=0.0, bar_style='info', description='Progress:', layout=Layout(height='25px', width='50%'),…"
      ]
     },
     "metadata": {},
     "output_type": "display_data"
    }
   ],
   "source": [
    "def featurize_series(model, content_series):\n",
    "    \"\"\"\n",
    "    Featurize a pd.Series of raw images using the input model.\n",
    "    :return: a pd.Series of image features\n",
    "    \"\"\"\n",
    "    input = np.stack(content_series.map(preprocess))\n",
    "    preds = model.predict(input)\n",
    "    \n",
    "    # For some layers, output features will be multi-dimensional tensors.\n",
    "    # We flatten the feature tensors to vectors for easier storage in Spark DataFrames.\n",
    "    output = [p.flatten() for p in preds]\n",
    "    \n",
    "    return pd.Series(output)"
   ]
  },
  {
   "cell_type": "code",
   "execution_count": 7,
   "metadata": {},
   "outputs": [
    {
     "data": {
      "application/vnd.jupyter.widget-view+json": {
       "model_id": "",
       "version_major": 2,
       "version_minor": 0
      },
      "text/plain": [
       "FloatProgress(value=0.0, bar_style='info', description='Progress:', layout=Layout(height='25px', width='50%'),…"
      ]
     },
     "metadata": {},
     "output_type": "display_data"
    },
    {
     "name": "stdout",
     "output_type": "stream",
     "text": [
      "/mnt1/yarn/usercache/livy/appcache/application_1730868427509_0003/container_1730868427509_0003_01_000001/pyspark.zip/pyspark/sql/pandas/functions.py:407: UserWarning: In Python 3.6+ and Spark 3.0+, it is preferred to specify type hints for pandas UDF instead of specifying pandas UDF type which will be deprecated in the future releases. See SPARK-28264 for more details."
     ]
    }
   ],
   "source": [
    "@pandas_udf('array<float>', PandasUDFType.SCALAR_ITER)\n",
    "def featurize_udf(content_series_iter):\n",
    "    '''\n",
    "    This method is a Scalar Iterator pandas UDF wrapping our featurization function.\n",
    "    The decorator specifies that this returns a Spark DataFrame column of type ArrayType(FloatType).\n",
    "    :param content_series_iter: This argument is an iterator over batches of data, where each batch\n",
    "                              is a pandas Series of image data.\n",
    "    '''\n",
    "    # With Scalar Iterator pandas UDFs, we can load the model once and then re-use it\n",
    "    # for multiple data batches. This amortizes the overhead of loading big models.\n",
    "    model = load_model()\n",
    "    \n",
    "    for content_series in content_series_iter:\n",
    "        yield featurize_series(model, content_series)"
   ]
  },
  {
   "cell_type": "code",
   "execution_count": 8,
   "metadata": {
    "scrolled": true
   },
   "outputs": [
    {
     "data": {
      "application/vnd.jupyter.widget-view+json": {
       "model_id": "",
       "version_major": 2,
       "version_minor": 0
      },
      "text/plain": [
       "FloatProgress(value=0.0, bar_style='info', description='Progress:', layout=Layout(height='25px', width='50%'),…"
      ]
     },
     "metadata": {},
     "output_type": "display_data"
    },
    {
     "name": "stdout",
     "output_type": "stream",
     "text": [
      "Starting Spark script.\n",
      "\n",
      "Loaded 22688 images from s3a://xavier-project-8-bucket/Test/.\n",
      "\n",
      "The weights have been broadcasted.\n",
      "\n",
      "The features have been saved to s3a://xavier-project-8-bucket/results/.\n",
      "\n",
      "The results have been loaded back.\n",
      "\n",
      "Total variance: 0.7039548153141635.\n",
      "\n",
      "The results with PCA have been loaded back.\n",
      "\n",
      "+--------------------+--------------+--------------------+--------------------+\n",
      "|                path|         label|            features|        pca_features|\n",
      "+--------------------+--------------+--------------------+--------------------+\n",
      "|s3a://xavier-proj...|    Watermelon|[0.13241590559482...|[-2.9173956109504...|\n",
      "|s3a://xavier-proj...|Pineapple Mini|[0.0,5.1500864028...|[-4.7617026322296...|\n",
      "|s3a://xavier-proj...|Pineapple Mini|[0.0,4.9098920822...|[-3.2724395425916...|\n",
      "|s3a://xavier-proj...|Pineapple Mini|[0.0,5.0930061340...|[-3.9680935129395...|\n",
      "|s3a://xavier-proj...|    Watermelon|[0.0,0.8305122256...|[-2.7552702776912...|\n",
      "+--------------------+--------------+--------------------+--------------------+\n",
      "only showing top 5 rows\n",
      "\n",
      "None"
     ]
    }
   ],
   "source": [
    "print(\"Starting Spark script.\\n\")\n",
    "\n",
    "# Load images from dataset in memory with Spark\n",
    "images = spark.read.format(\"binaryFile\") \\\n",
    "    .option(\"pathGlobFilter\", \"*.jpg\") \\\n",
    "    .option(\"recursiveFileLookup\", \"true\") \\\n",
    "    .load(DATA_PATH)\n",
    "\n",
    "print(f\"Loaded {images.count()} images from {DATA_PATH}.\\n\")\n",
    "\n",
    "# Adding label column to our dataset\n",
    "images = images.withColumn('label', element_at(split(images['path'], '/'), -2))\n",
    "\n",
    "# Transfer learning planned, we don't keep the last layer\n",
    "model = MobileNetV2(weights='imagenet', include_top=True, input_shape=(224, 224, 3))\n",
    "new_model = Model(inputs=model.input, outputs=model.layers[-2].output)\n",
    "broadcasted_weights = sc.broadcast(new_model.get_weights())\n",
    "print(\"The weights have been broadcasted.\\n\")\n",
    "\n",
    "# Creating features of images and saving the results\n",
    "numbers_to_float_udf = udf(lambda x: [float(number) for number in x], ArrayType(FloatType()))\n",
    "array_to_vector_udf = udf(lambda x: Vectors.dense(x), VectorUDT())\n",
    "\n",
    "features_df = (images\n",
    "               # 20 partitions\n",
    "               .repartition(20)\n",
    "               .withColumn(\"features\", featurize_udf(\"content\"))\n",
    "               .withColumn(\"features\", numbers_to_float_udf(\"features\"))\n",
    "               .withColumn(\"features\", array_to_vector_udf(\"features\"))\n",
    "               .select(\"path\", \"label\", \"features\"))\n",
    "features_df.write.mode(\"overwrite\").parquet(RESULTS_PATH)\n",
    "print(f\"The features have been saved to {RESULTS_PATH}. Here are the five top lines of the saved dataset:\\n\")\n",
    "\n",
    "print(features_df.show(5))\n",
    "\n",
    "\n",
    "# Load the results back\n",
    "spark_df = spark.read.parquet(RESULTS_PATH)\n",
    "print(\"The results have been loaded back.\\n\")\n",
    "\n",
    "# Missing PCA step added\n",
    "pca = PCA(k=42, inputCol=\"features\", outputCol=\"pca_features\")\n",
    "pca_model = pca.fit(spark_df)\n",
    "df_pca = pca_model.transform(spark_df)\n",
    "\n",
    "# Saving df with PCA as parquet and csv\n",
    "(df_pca.write.mode(\"overwrite\")\n",
    " .parquet(PCA_RESULTS_PATH))\n",
    "(df_pca\n",
    " .withColumn(\"features\", col(\"features\").cast(\"string\"))\n",
    " .withColumn(\"pca_features\", col(\"pca_features\").cast(\"string\"))\n",
    " .write\n",
    " .mode(\"overwrite\")\n",
    " .option(\"header\", \"true\")\n",
    " .format(\"csv\")\n",
    " .save(PCA_CSV_RESULTS_PATH))\n",
    "\n",
    "explained_variance = pca_model.explainedVariance\n",
    "# print(\"Explained variance ratio:\", explained_variance)\n",
    "print(f\"Total variance: {sum(explained_variance.toArray())}.\\n\")\n",
    "\n",
    "\n",
    "# Load the results back again\n",
    "spark_pca_df = spark.read.parquet(PCA_RESULTS_PATH)\n",
    "print(\"The results with PCA have been loaded back.\\n\")\n",
    "\n",
    "print(spark_pca_df.show(5))"
   ]
  }
 ],
 "metadata": {
  "kernelspec": {
   "display_name": "Python 3 (ipykernel)",
   "language": "python",
   "name": "python3"
  },
  "language_info": {
   "codemirror_mode": {
    "name": "ipython",
    "version": 3
   },
   "file_extension": ".py",
   "mimetype": "text/x-python",
   "name": "python",
   "nbconvert_exporter": "python",
   "pygments_lexer": "ipython3",
   "version": "3.12.7"
  }
 },
 "nbformat": 4,
 "nbformat_minor": 4
}
